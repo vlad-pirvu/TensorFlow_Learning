{
  "nbformat": 4,
  "nbformat_minor": 0,
  "metadata": {
    "colab": {
      "provenance": []
    },
    "kernelspec": {
      "name": "python3",
      "display_name": "Python 3"
    },
    "language_info": {
      "name": "python"
    }
  },
  "cells": [
    {
      "cell_type": "markdown",
      "source": [
        "**Simplest TF example: Y = 3X + 1**"
      ],
      "metadata": {
        "id": "RgHoKWG5XUhM"
      }
    },
    {
      "cell_type": "markdown",
      "source": [
        "Start with your imports. Here, you're importing TensorFlow and calling it tf for ease of use.\n",
        "\n",
        "Next, import a library called numpy, which represents your data as lists easily and quickly.\n",
        "\n",
        "The framework for defining a neural network as a set of sequential layers is called keras, so import that, too."
      ],
      "metadata": {
        "id": "4oVpQ8djXQwz"
      }
    },
    {
      "cell_type": "code",
      "execution_count": null,
      "metadata": {
        "id": "3YB5pF-FMbv2"
      },
      "outputs": [],
      "source": [
        "import tensorflow as tf\n",
        "import numpy as np\n",
        "from tensorflow import keras"
      ]
    },
    {
      "cell_type": "markdown",
      "source": [
        "**Define and compile the neural network**\n",
        "\n",
        "Next, create the simplest possible neural network. It has one layer, that layer has one neuron, and the input shape to it is only one value."
      ],
      "metadata": {
        "id": "9b5E9hnIXccX"
      }
    },
    {
      "cell_type": "code",
      "source": [
        "model = tf.keras.Sequential([keras.layers.Dense(units=1, input_shape=[1])])"
      ],
      "metadata": {
        "id": "rnirGdRXVmV6"
      },
      "execution_count": null,
      "outputs": []
    },
    {
      "cell_type": "markdown",
      "source": [
        "Next, write the code to compile your neural network. When you do so, you need to specify two functions—a loss and an optimizer.\n",
        "\n",
        "In this example, you know that the relationship between the numbers is Y=3X+1.\n",
        "\n",
        "When the computer is trying to learn that, it makes a guess, maybe Y=10X+10. The loss function measures the guessed answers against the known correct answers and measures how well or badly it did.\n",
        "\n",
        "Next, the model uses the optimizer function to make another guess. Based on the loss function's result, it tries to minimize the loss. At this point, maybe it will come up with something like Y=5X+5. While that's still pretty bad, it's closer to the correct result (the loss is lower).\n",
        "\n",
        "The model repeats that for the number of epochs, which you'll see shortly.\n",
        "\n",
        "First, here's how to tell it to use mean_squared_error for the loss and stochastic gradient descent (sgd) for the optimizer. "
      ],
      "metadata": {
        "id": "O0gKNExjXnq2"
      }
    },
    {
      "cell_type": "code",
      "source": [
        "model.compile(optimizer='sgd', loss='mean_squared_error')"
      ],
      "metadata": {
        "id": "PtR3RIjSV2Vr"
      },
      "execution_count": null,
      "outputs": []
    },
    {
      "cell_type": "markdown",
      "source": [
        "**Provide the data**\n",
        "\n",
        "Next, feed some data. In this case, you take the six X and six Y variables from earlier. You can see that the relationship between those is that Y=3X+1, so where X is -1, Y is -2.\n",
        "\n",
        "A python library called NumPy provides lots of array type data structures to do this. Specify the values as an array in NumPy with np.array[]."
      ],
      "metadata": {
        "id": "gxtAiZ0qX1sO"
      }
    },
    {
      "cell_type": "code",
      "source": [
        "xs = np.array([-1.0, 0.0, 1.0, 2.0, 3.0, 4.0], dtype=float)\n",
        "ys = np.array([-2.0, 1.0, 4.0, 7.0, 10.0, 13.0], dtype=float)"
      ],
      "metadata": {
        "id": "wIB0-5BvWAps"
      },
      "execution_count": null,
      "outputs": []
    },
    {
      "cell_type": "markdown",
      "source": [
        "**Train the neural network**\n",
        "\n",
        "The process of training the neural network, where it learns the relationship between the X's and Y's, is in the model.fit call. That's where it will go through the loop before making a guess, measuring how good or bad it is (the loss), or using the optimizer to make another guess. It will do that for the number of epochs that you specify. When you run that code, you'll see the loss will be printed out for each epoch."
      ],
      "metadata": {
        "id": "iJ0eJeC3X-n6"
      }
    },
    {
      "cell_type": "code",
      "source": [
        "model.fit(xs, ys, epochs=200)"
      ],
      "metadata": {
        "colab": {
          "base_uri": "https://localhost:8080/"
        },
        "id": "eiACgFpkWCUE",
        "outputId": "a2dd39f7-7b37-4bed-96b5-022e7152c68a"
      },
      "execution_count": null,
      "outputs": [
        {
          "output_type": "stream",
          "name": "stdout",
          "text": [
            "Epoch 1/200\n",
            "1/1 [==============================] - 1s 629ms/step - loss: 75.9725\n",
            "Epoch 2/200\n",
            "1/1 [==============================] - 0s 12ms/step - loss: 59.7732\n",
            "Epoch 3/200\n",
            "1/1 [==============================] - 0s 12ms/step - loss: 47.0284\n",
            "Epoch 4/200\n",
            "1/1 [==============================] - 0s 14ms/step - loss: 37.0013\n",
            "Epoch 5/200\n",
            "1/1 [==============================] - 0s 13ms/step - loss: 29.1125\n",
            "Epoch 6/200\n",
            "1/1 [==============================] - 0s 12ms/step - loss: 22.9059\n",
            "Epoch 7/200\n",
            "1/1 [==============================] - 0s 11ms/step - loss: 18.0228\n",
            "Epoch 8/200\n",
            "1/1 [==============================] - 0s 10ms/step - loss: 14.1810\n",
            "Epoch 9/200\n",
            "1/1 [==============================] - 0s 10ms/step - loss: 11.1584\n",
            "Epoch 10/200\n",
            "1/1 [==============================] - 0s 10ms/step - loss: 8.7804\n",
            "Epoch 11/200\n",
            "1/1 [==============================] - 0s 9ms/step - loss: 6.9094\n",
            "Epoch 12/200\n",
            "1/1 [==============================] - 0s 10ms/step - loss: 5.4374\n",
            "Epoch 13/200\n",
            "1/1 [==============================] - 0s 11ms/step - loss: 4.2793\n",
            "Epoch 14/200\n",
            "1/1 [==============================] - 0s 15ms/step - loss: 3.3681\n",
            "Epoch 15/200\n",
            "1/1 [==============================] - 0s 11ms/step - loss: 2.6512\n",
            "Epoch 16/200\n",
            "1/1 [==============================] - 0s 10ms/step - loss: 2.0871\n",
            "Epoch 17/200\n",
            "1/1 [==============================] - 0s 13ms/step - loss: 1.6433\n",
            "Epoch 18/200\n",
            "1/1 [==============================] - 0s 10ms/step - loss: 1.2941\n",
            "Epoch 19/200\n",
            "1/1 [==============================] - 0s 10ms/step - loss: 1.0194\n",
            "Epoch 20/200\n",
            "1/1 [==============================] - 0s 10ms/step - loss: 0.8032\n",
            "Epoch 21/200\n",
            "1/1 [==============================] - 0s 11ms/step - loss: 0.6331\n",
            "Epoch 22/200\n",
            "1/1 [==============================] - 0s 9ms/step - loss: 0.4992\n",
            "Epoch 23/200\n",
            "1/1 [==============================] - 0s 10ms/step - loss: 0.3939\n",
            "Epoch 24/200\n",
            "1/1 [==============================] - 0s 11ms/step - loss: 0.3110\n",
            "Epoch 25/200\n",
            "1/1 [==============================] - 0s 11ms/step - loss: 0.2457\n",
            "Epoch 26/200\n",
            "1/1 [==============================] - 0s 10ms/step - loss: 0.1944\n",
            "Epoch 27/200\n",
            "1/1 [==============================] - 0s 10ms/step - loss: 0.1540\n",
            "Epoch 28/200\n",
            "1/1 [==============================] - 0s 14ms/step - loss: 0.1221\n",
            "Epoch 29/200\n",
            "1/1 [==============================] - 0s 10ms/step - loss: 0.0971\n",
            "Epoch 30/200\n",
            "1/1 [==============================] - 0s 11ms/step - loss: 0.0773\n",
            "Epoch 31/200\n",
            "1/1 [==============================] - 0s 11ms/step - loss: 0.0618\n",
            "Epoch 32/200\n",
            "1/1 [==============================] - 0s 11ms/step - loss: 0.0496\n",
            "Epoch 33/200\n",
            "1/1 [==============================] - 0s 14ms/step - loss: 0.0399\n",
            "Epoch 34/200\n",
            "1/1 [==============================] - 0s 16ms/step - loss: 0.0323\n",
            "Epoch 35/200\n",
            "1/1 [==============================] - 0s 11ms/step - loss: 0.0263\n",
            "Epoch 36/200\n",
            "1/1 [==============================] - 0s 10ms/step - loss: 0.0215\n",
            "Epoch 37/200\n",
            "1/1 [==============================] - 0s 10ms/step - loss: 0.0178\n",
            "Epoch 38/200\n",
            "1/1 [==============================] - 0s 11ms/step - loss: 0.0148\n",
            "Epoch 39/200\n",
            "1/1 [==============================] - 0s 12ms/step - loss: 0.0124\n",
            "Epoch 40/200\n",
            "1/1 [==============================] - 0s 12ms/step - loss: 0.0106\n",
            "Epoch 41/200\n",
            "1/1 [==============================] - 0s 10ms/step - loss: 0.0091\n",
            "Epoch 42/200\n",
            "1/1 [==============================] - 0s 11ms/step - loss: 0.0079\n",
            "Epoch 43/200\n",
            "1/1 [==============================] - 0s 10ms/step - loss: 0.0070\n",
            "Epoch 44/200\n",
            "1/1 [==============================] - 0s 16ms/step - loss: 0.0062\n",
            "Epoch 45/200\n",
            "1/1 [==============================] - 0s 12ms/step - loss: 0.0056\n",
            "Epoch 46/200\n",
            "1/1 [==============================] - 0s 17ms/step - loss: 0.0051\n",
            "Epoch 47/200\n",
            "1/1 [==============================] - 0s 10ms/step - loss: 0.0047\n",
            "Epoch 48/200\n",
            "1/1 [==============================] - 0s 10ms/step - loss: 0.0044\n",
            "Epoch 49/200\n",
            "1/1 [==============================] - 0s 15ms/step - loss: 0.0041\n",
            "Epoch 50/200\n",
            "1/1 [==============================] - 0s 16ms/step - loss: 0.0038\n",
            "Epoch 51/200\n",
            "1/1 [==============================] - 0s 10ms/step - loss: 0.0037\n",
            "Epoch 52/200\n",
            "1/1 [==============================] - 0s 10ms/step - loss: 0.0035\n",
            "Epoch 53/200\n",
            "1/1 [==============================] - 0s 11ms/step - loss: 0.0033\n",
            "Epoch 54/200\n",
            "1/1 [==============================] - 0s 10ms/step - loss: 0.0032\n",
            "Epoch 55/200\n",
            "1/1 [==============================] - 0s 10ms/step - loss: 0.0031\n",
            "Epoch 56/200\n",
            "1/1 [==============================] - 0s 10ms/step - loss: 0.0030\n",
            "Epoch 57/200\n",
            "1/1 [==============================] - 0s 10ms/step - loss: 0.0029\n",
            "Epoch 58/200\n",
            "1/1 [==============================] - 0s 11ms/step - loss: 0.0028\n",
            "Epoch 59/200\n",
            "1/1 [==============================] - 0s 9ms/step - loss: 0.0028\n",
            "Epoch 60/200\n",
            "1/1 [==============================] - 0s 10ms/step - loss: 0.0027\n",
            "Epoch 61/200\n",
            "1/1 [==============================] - 0s 11ms/step - loss: 0.0026\n",
            "Epoch 62/200\n",
            "1/1 [==============================] - 0s 10ms/step - loss: 0.0026\n",
            "Epoch 63/200\n",
            "1/1 [==============================] - 0s 10ms/step - loss: 0.0025\n",
            "Epoch 64/200\n",
            "1/1 [==============================] - 0s 11ms/step - loss: 0.0025\n",
            "Epoch 65/200\n",
            "1/1 [==============================] - 0s 11ms/step - loss: 0.0024\n",
            "Epoch 66/200\n",
            "1/1 [==============================] - 0s 10ms/step - loss: 0.0023\n",
            "Epoch 67/200\n",
            "1/1 [==============================] - 0s 10ms/step - loss: 0.0023\n",
            "Epoch 68/200\n",
            "1/1 [==============================] - 0s 10ms/step - loss: 0.0022\n",
            "Epoch 69/200\n",
            "1/1 [==============================] - 0s 10ms/step - loss: 0.0022\n",
            "Epoch 70/200\n",
            "1/1 [==============================] - 0s 10ms/step - loss: 0.0021\n",
            "Epoch 71/200\n",
            "1/1 [==============================] - 0s 11ms/step - loss: 0.0021\n",
            "Epoch 72/200\n",
            "1/1 [==============================] - 0s 14ms/step - loss: 0.0021\n",
            "Epoch 73/200\n",
            "1/1 [==============================] - 0s 10ms/step - loss: 0.0020\n",
            "Epoch 74/200\n",
            "1/1 [==============================] - 0s 10ms/step - loss: 0.0020\n",
            "Epoch 75/200\n",
            "1/1 [==============================] - 0s 13ms/step - loss: 0.0019\n",
            "Epoch 76/200\n",
            "1/1 [==============================] - 0s 10ms/step - loss: 0.0019\n",
            "Epoch 77/200\n",
            "1/1 [==============================] - 0s 17ms/step - loss: 0.0019\n",
            "Epoch 78/200\n",
            "1/1 [==============================] - 0s 13ms/step - loss: 0.0018\n",
            "Epoch 79/200\n",
            "1/1 [==============================] - 0s 16ms/step - loss: 0.0018\n",
            "Epoch 80/200\n",
            "1/1 [==============================] - 0s 10ms/step - loss: 0.0017\n",
            "Epoch 81/200\n",
            "1/1 [==============================] - 0s 10ms/step - loss: 0.0017\n",
            "Epoch 82/200\n",
            "1/1 [==============================] - 0s 10ms/step - loss: 0.0017\n",
            "Epoch 83/200\n",
            "1/1 [==============================] - 0s 10ms/step - loss: 0.0016\n",
            "Epoch 84/200\n",
            "1/1 [==============================] - 0s 11ms/step - loss: 0.0016\n",
            "Epoch 85/200\n",
            "1/1 [==============================] - 0s 10ms/step - loss: 0.0016\n",
            "Epoch 86/200\n",
            "1/1 [==============================] - 0s 11ms/step - loss: 0.0015\n",
            "Epoch 87/200\n",
            "1/1 [==============================] - 0s 11ms/step - loss: 0.0015\n",
            "Epoch 88/200\n",
            "1/1 [==============================] - 0s 11ms/step - loss: 0.0015\n",
            "Epoch 89/200\n",
            "1/1 [==============================] - 0s 10ms/step - loss: 0.0014\n",
            "Epoch 90/200\n",
            "1/1 [==============================] - 0s 9ms/step - loss: 0.0014\n",
            "Epoch 91/200\n",
            "1/1 [==============================] - 0s 13ms/step - loss: 0.0014\n",
            "Epoch 92/200\n",
            "1/1 [==============================] - 0s 14ms/step - loss: 0.0014\n",
            "Epoch 93/200\n",
            "1/1 [==============================] - 0s 12ms/step - loss: 0.0013\n",
            "Epoch 94/200\n",
            "1/1 [==============================] - 0s 11ms/step - loss: 0.0013\n",
            "Epoch 95/200\n",
            "1/1 [==============================] - 0s 11ms/step - loss: 0.0013\n",
            "Epoch 96/200\n",
            "1/1 [==============================] - 0s 11ms/step - loss: 0.0013\n",
            "Epoch 97/200\n",
            "1/1 [==============================] - 0s 11ms/step - loss: 0.0012\n",
            "Epoch 98/200\n",
            "1/1 [==============================] - 0s 11ms/step - loss: 0.0012\n",
            "Epoch 99/200\n",
            "1/1 [==============================] - 0s 11ms/step - loss: 0.0012\n",
            "Epoch 100/200\n",
            "1/1 [==============================] - 0s 11ms/step - loss: 0.0012\n",
            "Epoch 101/200\n",
            "1/1 [==============================] - 0s 11ms/step - loss: 0.0011\n",
            "Epoch 102/200\n",
            "1/1 [==============================] - 0s 11ms/step - loss: 0.0011\n",
            "Epoch 103/200\n",
            "1/1 [==============================] - 0s 11ms/step - loss: 0.0011\n",
            "Epoch 104/200\n",
            "1/1 [==============================] - 0s 14ms/step - loss: 0.0011\n",
            "Epoch 105/200\n",
            "1/1 [==============================] - 0s 11ms/step - loss: 0.0010\n",
            "Epoch 106/200\n",
            "1/1 [==============================] - 0s 10ms/step - loss: 0.0010\n",
            "Epoch 107/200\n",
            "1/1 [==============================] - 0s 11ms/step - loss: 9.9519e-04\n",
            "Epoch 108/200\n",
            "1/1 [==============================] - 0s 10ms/step - loss: 9.7475e-04\n",
            "Epoch 109/200\n",
            "1/1 [==============================] - 0s 14ms/step - loss: 9.5472e-04\n",
            "Epoch 110/200\n",
            "1/1 [==============================] - 0s 12ms/step - loss: 9.3511e-04\n",
            "Epoch 111/200\n",
            "1/1 [==============================] - 0s 16ms/step - loss: 9.1590e-04\n",
            "Epoch 112/200\n",
            "1/1 [==============================] - 0s 12ms/step - loss: 8.9709e-04\n",
            "Epoch 113/200\n",
            "1/1 [==============================] - 0s 23ms/step - loss: 8.7866e-04\n",
            "Epoch 114/200\n",
            "1/1 [==============================] - 0s 15ms/step - loss: 8.6061e-04\n",
            "Epoch 115/200\n",
            "1/1 [==============================] - 0s 18ms/step - loss: 8.4294e-04\n",
            "Epoch 116/200\n",
            "1/1 [==============================] - 0s 13ms/step - loss: 8.2562e-04\n",
            "Epoch 117/200\n",
            "1/1 [==============================] - 0s 10ms/step - loss: 8.0867e-04\n",
            "Epoch 118/200\n",
            "1/1 [==============================] - 0s 9ms/step - loss: 7.9206e-04\n",
            "Epoch 119/200\n",
            "1/1 [==============================] - 0s 10ms/step - loss: 7.7578e-04\n",
            "Epoch 120/200\n",
            "1/1 [==============================] - 0s 15ms/step - loss: 7.5985e-04\n",
            "Epoch 121/200\n",
            "1/1 [==============================] - 0s 13ms/step - loss: 7.4424e-04\n",
            "Epoch 122/200\n",
            "1/1 [==============================] - 0s 11ms/step - loss: 7.2895e-04\n",
            "Epoch 123/200\n",
            "1/1 [==============================] - 0s 10ms/step - loss: 7.1398e-04\n",
            "Epoch 124/200\n",
            "1/1 [==============================] - 0s 12ms/step - loss: 6.9931e-04\n",
            "Epoch 125/200\n",
            "1/1 [==============================] - 0s 12ms/step - loss: 6.8495e-04\n",
            "Epoch 126/200\n",
            "1/1 [==============================] - 0s 11ms/step - loss: 6.7088e-04\n",
            "Epoch 127/200\n",
            "1/1 [==============================] - 0s 11ms/step - loss: 6.5709e-04\n",
            "Epoch 128/200\n",
            "1/1 [==============================] - 0s 11ms/step - loss: 6.4360e-04\n",
            "Epoch 129/200\n",
            "1/1 [==============================] - 0s 11ms/step - loss: 6.3038e-04\n",
            "Epoch 130/200\n",
            "1/1 [==============================] - 0s 14ms/step - loss: 6.1743e-04\n",
            "Epoch 131/200\n",
            "1/1 [==============================] - 0s 11ms/step - loss: 6.0475e-04\n",
            "Epoch 132/200\n",
            "1/1 [==============================] - 0s 10ms/step - loss: 5.9233e-04\n",
            "Epoch 133/200\n",
            "1/1 [==============================] - 0s 10ms/step - loss: 5.8016e-04\n",
            "Epoch 134/200\n",
            "1/1 [==============================] - 0s 10ms/step - loss: 5.6825e-04\n",
            "Epoch 135/200\n",
            "1/1 [==============================] - 0s 10ms/step - loss: 5.5657e-04\n",
            "Epoch 136/200\n",
            "1/1 [==============================] - 0s 10ms/step - loss: 5.4514e-04\n",
            "Epoch 137/200\n",
            "1/1 [==============================] - 0s 10ms/step - loss: 5.3394e-04\n",
            "Epoch 138/200\n",
            "1/1 [==============================] - 0s 10ms/step - loss: 5.2297e-04\n",
            "Epoch 139/200\n",
            "1/1 [==============================] - 0s 13ms/step - loss: 5.1223e-04\n",
            "Epoch 140/200\n",
            "1/1 [==============================] - 0s 10ms/step - loss: 5.0171e-04\n",
            "Epoch 141/200\n",
            "1/1 [==============================] - 0s 13ms/step - loss: 4.9141e-04\n",
            "Epoch 142/200\n",
            "1/1 [==============================] - 0s 14ms/step - loss: 4.8131e-04\n",
            "Epoch 143/200\n",
            "1/1 [==============================] - 0s 16ms/step - loss: 4.7142e-04\n",
            "Epoch 144/200\n",
            "1/1 [==============================] - 0s 11ms/step - loss: 4.6174e-04\n",
            "Epoch 145/200\n",
            "1/1 [==============================] - 0s 10ms/step - loss: 4.5226e-04\n",
            "Epoch 146/200\n",
            "1/1 [==============================] - 0s 10ms/step - loss: 4.4297e-04\n",
            "Epoch 147/200\n",
            "1/1 [==============================] - 0s 10ms/step - loss: 4.3387e-04\n",
            "Epoch 148/200\n",
            "1/1 [==============================] - 0s 14ms/step - loss: 4.2496e-04\n",
            "Epoch 149/200\n",
            "1/1 [==============================] - 0s 11ms/step - loss: 4.1623e-04\n",
            "Epoch 150/200\n",
            "1/1 [==============================] - 0s 12ms/step - loss: 4.0768e-04\n",
            "Epoch 151/200\n",
            "1/1 [==============================] - 0s 13ms/step - loss: 3.9931e-04\n",
            "Epoch 152/200\n",
            "1/1 [==============================] - 0s 11ms/step - loss: 3.9110e-04\n",
            "Epoch 153/200\n",
            "1/1 [==============================] - 0s 12ms/step - loss: 3.8307e-04\n",
            "Epoch 154/200\n",
            "1/1 [==============================] - 0s 11ms/step - loss: 3.7520e-04\n",
            "Epoch 155/200\n",
            "1/1 [==============================] - 0s 11ms/step - loss: 3.6750e-04\n",
            "Epoch 156/200\n",
            "1/1 [==============================] - 0s 11ms/step - loss: 3.5995e-04\n",
            "Epoch 157/200\n",
            "1/1 [==============================] - 0s 11ms/step - loss: 3.5256e-04\n",
            "Epoch 158/200\n",
            "1/1 [==============================] - 0s 12ms/step - loss: 3.4531e-04\n",
            "Epoch 159/200\n",
            "1/1 [==============================] - 0s 11ms/step - loss: 3.3822e-04\n",
            "Epoch 160/200\n",
            "1/1 [==============================] - 0s 11ms/step - loss: 3.3128e-04\n",
            "Epoch 161/200\n",
            "1/1 [==============================] - 0s 10ms/step - loss: 3.2447e-04\n",
            "Epoch 162/200\n",
            "1/1 [==============================] - 0s 10ms/step - loss: 3.1780e-04\n",
            "Epoch 163/200\n",
            "1/1 [==============================] - 0s 10ms/step - loss: 3.1128e-04\n",
            "Epoch 164/200\n",
            "1/1 [==============================] - 0s 10ms/step - loss: 3.0488e-04\n",
            "Epoch 165/200\n",
            "1/1 [==============================] - 0s 14ms/step - loss: 2.9862e-04\n",
            "Epoch 166/200\n",
            "1/1 [==============================] - 0s 10ms/step - loss: 2.9249e-04\n",
            "Epoch 167/200\n",
            "1/1 [==============================] - 0s 10ms/step - loss: 2.8648e-04\n",
            "Epoch 168/200\n",
            "1/1 [==============================] - 0s 11ms/step - loss: 2.8060e-04\n",
            "Epoch 169/200\n",
            "1/1 [==============================] - 0s 10ms/step - loss: 2.7483e-04\n",
            "Epoch 170/200\n",
            "1/1 [==============================] - 0s 10ms/step - loss: 2.6919e-04\n",
            "Epoch 171/200\n",
            "1/1 [==============================] - 0s 10ms/step - loss: 2.6366e-04\n",
            "Epoch 172/200\n",
            "1/1 [==============================] - 0s 10ms/step - loss: 2.5824e-04\n",
            "Epoch 173/200\n",
            "1/1 [==============================] - 0s 9ms/step - loss: 2.5294e-04\n",
            "Epoch 174/200\n",
            "1/1 [==============================] - 0s 11ms/step - loss: 2.4774e-04\n",
            "Epoch 175/200\n",
            "1/1 [==============================] - 0s 10ms/step - loss: 2.4265e-04\n",
            "Epoch 176/200\n",
            "1/1 [==============================] - 0s 10ms/step - loss: 2.3767e-04\n",
            "Epoch 177/200\n",
            "1/1 [==============================] - 0s 10ms/step - loss: 2.3279e-04\n",
            "Epoch 178/200\n",
            "1/1 [==============================] - 0s 12ms/step - loss: 2.2801e-04\n",
            "Epoch 179/200\n",
            "1/1 [==============================] - 0s 11ms/step - loss: 2.2332e-04\n",
            "Epoch 180/200\n",
            "1/1 [==============================] - 0s 11ms/step - loss: 2.1874e-04\n",
            "Epoch 181/200\n",
            "1/1 [==============================] - 0s 11ms/step - loss: 2.1424e-04\n",
            "Epoch 182/200\n",
            "1/1 [==============================] - 0s 10ms/step - loss: 2.0984e-04\n",
            "Epoch 183/200\n",
            "1/1 [==============================] - 0s 11ms/step - loss: 2.0553e-04\n",
            "Epoch 184/200\n",
            "1/1 [==============================] - 0s 10ms/step - loss: 2.0131e-04\n",
            "Epoch 185/200\n",
            "1/1 [==============================] - 0s 15ms/step - loss: 1.9717e-04\n",
            "Epoch 186/200\n",
            "1/1 [==============================] - 0s 11ms/step - loss: 1.9312e-04\n",
            "Epoch 187/200\n",
            "1/1 [==============================] - 0s 11ms/step - loss: 1.8916e-04\n",
            "Epoch 188/200\n",
            "1/1 [==============================] - 0s 10ms/step - loss: 1.8527e-04\n",
            "Epoch 189/200\n",
            "1/1 [==============================] - 0s 10ms/step - loss: 1.8147e-04\n",
            "Epoch 190/200\n",
            "1/1 [==============================] - 0s 11ms/step - loss: 1.7774e-04\n",
            "Epoch 191/200\n",
            "1/1 [==============================] - 0s 10ms/step - loss: 1.7409e-04\n",
            "Epoch 192/200\n",
            "1/1 [==============================] - 0s 11ms/step - loss: 1.7051e-04\n",
            "Epoch 193/200\n",
            "1/1 [==============================] - 0s 11ms/step - loss: 1.6701e-04\n",
            "Epoch 194/200\n",
            "1/1 [==============================] - 0s 11ms/step - loss: 1.6358e-04\n",
            "Epoch 195/200\n",
            "1/1 [==============================] - 0s 10ms/step - loss: 1.6022e-04\n",
            "Epoch 196/200\n",
            "1/1 [==============================] - 0s 11ms/step - loss: 1.5693e-04\n",
            "Epoch 197/200\n",
            "1/1 [==============================] - 0s 10ms/step - loss: 1.5370e-04\n",
            "Epoch 198/200\n",
            "1/1 [==============================] - 0s 11ms/step - loss: 1.5055e-04\n",
            "Epoch 199/200\n",
            "1/1 [==============================] - 0s 10ms/step - loss: 1.4746e-04\n",
            "Epoch 200/200\n",
            "1/1 [==============================] - 0s 10ms/step - loss: 1.4443e-04\n"
          ]
        },
        {
          "output_type": "execute_result",
          "data": {
            "text/plain": [
              "<keras.callbacks.History at 0x7f902c7e9520>"
            ]
          },
          "metadata": {},
          "execution_count": 5
        }
      ]
    },
    {
      "cell_type": "markdown",
      "source": [
        "**Use the model**\n",
        "\n",
        "You have a model that has been trained to learn the relationship between X and Y. You can use the model.predict method to have it figure out the Y for a previously unknown X. For example, if X is 10, what do you think Y will be? "
      ],
      "metadata": {
        "id": "HdIuQc7kYJ4-"
      }
    },
    {
      "cell_type": "code",
      "source": [
        "print(model.predict([10.0]))"
      ],
      "metadata": {
        "colab": {
          "base_uri": "https://localhost:8080/"
        },
        "id": "aYIjGH-zWipo",
        "outputId": "2d7327ec-d33e-446e-e61f-158cd1b38854"
      },
      "execution_count": null,
      "outputs": [
        {
          "output_type": "stream",
          "name": "stdout",
          "text": [
            "1/1 [==============================] - 0s 404ms/step\n",
            "[[30.964935]]\n"
          ]
        }
      ]
    },
    {
      "cell_type": "markdown",
      "source": [
        "\n",
        "You might have thought 31, but it ended up being a little over. Why do you think that is?\n",
        "\n",
        "Neural networks deal with probabilities, so it calculated that there is a very high probability that the relationship between X and Y is Y=3X+1, but it can't know for sure with only six data points. The result is very close to 31, but not necessarily 31.\n",
        "\n",
        "As you work with neural networks, you'll see that pattern recurring. You will almost always deal with probabilities, not certainties, and will do a little bit of coding to figure out what the result is based on the probabilities, particularly when it comes to classification"
      ],
      "metadata": {
        "id": "AwH4jczTYRLJ"
      }
    },
    {
      "cell_type": "code",
      "source": [
        "print(model.predict([5.0]))"
      ],
      "metadata": {
        "colab": {
          "base_uri": "https://localhost:8080/"
        },
        "id": "XOe2VCckWmQF",
        "outputId": "03b04be0-d8e4-4fcf-ac3b-febece6b0b9a"
      },
      "execution_count": null,
      "outputs": [
        {
          "output_type": "stream",
          "name": "stdout",
          "text": [
            "1/1 [==============================] - 0s 52ms/step\n",
            "[[15.990345]]\n"
          ]
        }
      ]
    }
  ]
}